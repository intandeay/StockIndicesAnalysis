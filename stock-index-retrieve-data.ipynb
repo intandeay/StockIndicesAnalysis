{
 "cells": [
  {
   "cell_type": "code",
   "execution_count": 1,
   "metadata": {
    "_cell_guid": "79c7e3d0-c299-4dcb-8224-4455121ee9b0",
    "_uuid": "d629ff2d2480ee46fbb7e2d37f6b5fab8052498a",
    "execution": {
     "iopub.execute_input": "2020-10-11T07:21:05.778883Z",
     "iopub.status.busy": "2020-10-11T07:21:05.778045Z",
     "iopub.status.idle": "2020-10-11T07:21:42.680337Z",
     "shell.execute_reply": "2020-10-11T07:21:42.679560Z"
    },
    "papermill": {
     "duration": 36.917136,
     "end_time": "2020-10-11T07:21:42.680501",
     "exception": false,
     "start_time": "2020-10-11T07:21:05.763365",
     "status": "completed"
    },
    "tags": []
   },
   "outputs": [
    {
     "name": "stdout",
     "output_type": "stream",
     "text": [
      "Collecting yfinance\r\n",
      "  Downloading yfinance-0.1.55.tar.gz (23 kB)\r\n",
      "Requirement already satisfied: pandas>=0.24 in /opt/conda/lib/python3.7/site-packages (from yfinance) (1.1.2)\r\n",
      "Requirement already satisfied: numpy>=1.15 in /opt/conda/lib/python3.7/site-packages (from yfinance) (1.18.5)\r\n",
      "Requirement already satisfied: requests>=2.20 in /opt/conda/lib/python3.7/site-packages (from yfinance) (2.23.0)\r\n",
      "Collecting multitasking>=0.0.7\r\n",
      "  Downloading multitasking-0.0.9.tar.gz (8.1 kB)\r\n",
      "Collecting lxml>=4.5.1\r\n",
      "  Downloading lxml-4.5.2-cp37-cp37m-manylinux1_x86_64.whl (5.5 MB)\r\n",
      "\u001b[K     |████████████████████████████████| 5.5 MB 4.8 MB/s \r\n",
      "\u001b[?25hRequirement already satisfied: pytz>=2017.2 in /opt/conda/lib/python3.7/site-packages (from pandas>=0.24->yfinance) (2019.3)\r\n",
      "Requirement already satisfied: python-dateutil>=2.7.3 in /opt/conda/lib/python3.7/site-packages (from pandas>=0.24->yfinance) (2.8.1)\r\n",
      "Requirement already satisfied: idna<3,>=2.5 in /opt/conda/lib/python3.7/site-packages (from requests>=2.20->yfinance) (2.9)\r\n",
      "Requirement already satisfied: urllib3!=1.25.0,!=1.25.1,<1.26,>=1.21.1 in /opt/conda/lib/python3.7/site-packages (from requests>=2.20->yfinance) (1.24.3)\r\n",
      "Requirement already satisfied: chardet<4,>=3.0.2 in /opt/conda/lib/python3.7/site-packages (from requests>=2.20->yfinance) (3.0.4)\r\n",
      "Requirement already satisfied: certifi>=2017.4.17 in /opt/conda/lib/python3.7/site-packages (from requests>=2.20->yfinance) (2020.6.20)\r\n",
      "Requirement already satisfied: six>=1.5 in /opt/conda/lib/python3.7/site-packages (from python-dateutil>=2.7.3->pandas>=0.24->yfinance) (1.14.0)\r\n",
      "Building wheels for collected packages: yfinance, multitasking\r\n",
      "  Building wheel for yfinance (setup.py) ... \u001b[?25l-\b \b\\\b \bdone\r\n",
      "\u001b[?25h  Created wheel for yfinance: filename=yfinance-0.1.55-py2.py3-none-any.whl size=22616 sha256=719fb725140875183b66ad5d1a1256f5647a78ac30f9d5e42a8dd7b5496774a6\r\n",
      "  Stored in directory: /root/.cache/pip/wheels/aa/8a/36/59ed4f6fbcb6100967618eeb0696046bf9777a41ac2ff1f9b9\r\n",
      "  Building wheel for multitasking (setup.py) ... \u001b[?25l-\b \b\\\b \bdone\r\n",
      "\u001b[?25h  Created wheel for multitasking: filename=multitasking-0.0.9-py3-none-any.whl size=8366 sha256=11c210d33268539ff993d6b4af98e0d1517df38156a3c2db159bf4c03cb66b18\r\n",
      "  Stored in directory: /root/.cache/pip/wheels/ae/25/47/4d68431a7ec1b6c4b5233365934b74c1d4e665bf5f968d363a\r\n",
      "Successfully built yfinance multitasking\r\n",
      "Installing collected packages: multitasking, lxml, yfinance\r\n",
      "  Attempting uninstall: lxml\r\n",
      "    Found existing installation: lxml 4.5.0\r\n",
      "    Uninstalling lxml-4.5.0:\r\n",
      "      Successfully uninstalled lxml-4.5.0\r\n",
      "Successfully installed lxml-4.5.2 multitasking-0.0.9 yfinance-0.1.55\r\n"
     ]
    }
   ],
   "source": [
    "!pip install yfinance"
   ]
  },
  {
   "cell_type": "code",
   "execution_count": 2,
   "metadata": {
    "_cell_guid": "b1076dfc-b9ad-4769-8c92-a6c4dae69d19",
    "_uuid": "8f2839f25d086af736a60e9eeb907d3b93b6e0e5",
    "execution": {
     "iopub.execute_input": "2020-10-11T07:21:42.756110Z",
     "iopub.status.busy": "2020-10-11T07:21:42.755295Z",
     "iopub.status.idle": "2020-10-11T07:21:42.780564Z",
     "shell.execute_reply": "2020-10-11T07:21:42.781398Z"
    },
    "papermill": {
     "duration": 0.064335,
     "end_time": "2020-10-11T07:21:42.781581",
     "exception": false,
     "start_time": "2020-10-11T07:21:42.717246",
     "status": "completed"
    },
    "tags": []
   },
   "outputs": [],
   "source": [
    "import numpy as np # linear algebra\n",
    "import pandas as pd # data processing, CSV file I/O (e.g. pd.read_csv)\n",
    "import yfinance as yf"
   ]
  },
  {
   "cell_type": "code",
   "execution_count": 3,
   "metadata": {
    "execution": {
     "iopub.execute_input": "2020-10-11T07:21:42.852648Z",
     "iopub.status.busy": "2020-10-11T07:21:42.851865Z",
     "iopub.status.idle": "2020-10-11T07:21:44.532427Z",
     "shell.execute_reply": "2020-10-11T07:21:44.531683Z"
    },
    "papermill": {
     "duration": 1.7191,
     "end_time": "2020-10-11T07:21:44.532569",
     "exception": false,
     "start_time": "2020-10-11T07:21:42.813469",
     "status": "completed"
    },
    "tags": []
   },
   "outputs": [
    {
     "data": {
      "text/html": [
       "<div>\n",
       "<style scoped>\n",
       "    .dataframe tbody tr th:only-of-type {\n",
       "        vertical-align: middle;\n",
       "    }\n",
       "\n",
       "    .dataframe tbody tr th {\n",
       "        vertical-align: top;\n",
       "    }\n",
       "\n",
       "    .dataframe thead th {\n",
       "        text-align: right;\n",
       "    }\n",
       "</style>\n",
       "<table border=\"1\" class=\"dataframe\">\n",
       "  <thead>\n",
       "    <tr style=\"text-align: right;\">\n",
       "      <th></th>\n",
       "      <th>Symbol</th>\n",
       "      <th>Name</th>\n",
       "      <th>Last Price</th>\n",
       "      <th>Change</th>\n",
       "      <th>% Change</th>\n",
       "      <th>Volume</th>\n",
       "      <th>Intraday High/Low</th>\n",
       "      <th>52 Week Range</th>\n",
       "      <th>Day Chart</th>\n",
       "    </tr>\n",
       "  </thead>\n",
       "  <tbody>\n",
       "    <tr>\n",
       "      <th>0</th>\n",
       "      <td>^GSPC</td>\n",
       "      <td>S&amp;P 500</td>\n",
       "      <td>3477.13</td>\n",
       "      <td>30.30</td>\n",
       "      <td>+0.88%</td>\n",
       "      <td>2.228B</td>\n",
       "      <td>NaN</td>\n",
       "      <td>NaN</td>\n",
       "      <td>NaN</td>\n",
       "    </tr>\n",
       "    <tr>\n",
       "      <th>1</th>\n",
       "      <td>^DJI</td>\n",
       "      <td>Dow 30</td>\n",
       "      <td>28586.90</td>\n",
       "      <td>161.39</td>\n",
       "      <td>+0.57%</td>\n",
       "      <td>326.478M</td>\n",
       "      <td>NaN</td>\n",
       "      <td>NaN</td>\n",
       "      <td>NaN</td>\n",
       "    </tr>\n",
       "    <tr>\n",
       "      <th>2</th>\n",
       "      <td>^IXIC</td>\n",
       "      <td>Nasdaq</td>\n",
       "      <td>11579.94</td>\n",
       "      <td>158.96</td>\n",
       "      <td>+1.39%</td>\n",
       "      <td>3.228B</td>\n",
       "      <td>NaN</td>\n",
       "      <td>NaN</td>\n",
       "      <td>NaN</td>\n",
       "    </tr>\n",
       "    <tr>\n",
       "      <th>3</th>\n",
       "      <td>^NYA</td>\n",
       "      <td>NYSE COMPOSITE (DJ)</td>\n",
       "      <td>13252.62</td>\n",
       "      <td>62.04</td>\n",
       "      <td>+0.47%</td>\n",
       "      <td>0</td>\n",
       "      <td>NaN</td>\n",
       "      <td>NaN</td>\n",
       "      <td>NaN</td>\n",
       "    </tr>\n",
       "    <tr>\n",
       "      <th>4</th>\n",
       "      <td>^XAX</td>\n",
       "      <td>NYSE AMEX COMPOSITE INDEX</td>\n",
       "      <td>1997.03</td>\n",
       "      <td>10.33</td>\n",
       "      <td>+0.52%</td>\n",
       "      <td>0</td>\n",
       "      <td>NaN</td>\n",
       "      <td>NaN</td>\n",
       "      <td>NaN</td>\n",
       "    </tr>\n",
       "  </tbody>\n",
       "</table>\n",
       "</div>"
      ],
      "text/plain": [
       "  Symbol                       Name  Last Price  Change % Change    Volume  \\\n",
       "0  ^GSPC                    S&P 500     3477.13   30.30   +0.88%    2.228B   \n",
       "1   ^DJI                     Dow 30    28586.90  161.39   +0.57%  326.478M   \n",
       "2  ^IXIC                     Nasdaq    11579.94  158.96   +1.39%    3.228B   \n",
       "3   ^NYA        NYSE COMPOSITE (DJ)    13252.62   62.04   +0.47%         0   \n",
       "4   ^XAX  NYSE AMEX COMPOSITE INDEX     1997.03   10.33   +0.52%         0   \n",
       "\n",
       "   Intraday High/Low  52 Week Range  Day Chart  \n",
       "0                NaN            NaN        NaN  \n",
       "1                NaN            NaN        NaN  \n",
       "2                NaN            NaN        NaN  \n",
       "3                NaN            NaN        NaN  \n",
       "4                NaN            NaN        NaN  "
      ]
     },
     "execution_count": 3,
     "metadata": {},
     "output_type": "execute_result"
    }
   ],
   "source": [
    "df_list = pd.read_html('https://finance.yahoo.com/world-indices/')\n",
    "majorStockIdx = df_list[0]\n",
    "majorStockIdx.head()"
   ]
  },
  {
   "cell_type": "code",
   "execution_count": 4,
   "metadata": {
    "execution": {
     "iopub.execute_input": "2020-10-11T07:21:44.619590Z",
     "iopub.status.busy": "2020-10-11T07:21:44.611870Z",
     "iopub.status.idle": "2020-10-11T07:22:05.282521Z",
     "shell.execute_reply": "2020-10-11T07:22:05.281657Z"
    },
    "papermill": {
     "duration": 20.717088,
     "end_time": "2020-10-11T07:22:05.282655",
     "exception": false,
     "start_time": "2020-10-11T07:21:44.565567",
     "status": "completed"
    },
    "tags": []
   },
   "outputs": [
    {
     "name": "stdout",
     "output_type": "stream",
     "text": [
      "- ^CASE30: No data found for this date range, symbol may be delisted\n"
     ]
    }
   ],
   "source": [
    "stock_list = []\n",
    "\n",
    "for s in majorStockIdx.Symbol:\n",
    "    tickerData = yf.Ticker(s)\n",
    "    tickerDf1 = tickerData.history(period='1d', start='2010-1-1', end='2020-10-01')\n",
    "    tickerDf1['ticker'] = s\n",
    "    stock_list.append(tickerDf1)\n",
    "    "
   ]
  },
  {
   "cell_type": "code",
   "execution_count": 5,
   "metadata": {
    "execution": {
     "iopub.execute_input": "2020-10-11T07:22:05.352128Z",
     "iopub.status.busy": "2020-10-11T07:22:05.351326Z",
     "iopub.status.idle": "2020-10-11T07:22:05.405926Z",
     "shell.execute_reply": "2020-10-11T07:22:05.405168Z"
    },
    "papermill": {
     "duration": 0.091842,
     "end_time": "2020-10-11T07:22:05.406073",
     "exception": false,
     "start_time": "2020-10-11T07:22:05.314231",
     "status": "completed"
    },
    "tags": []
   },
   "outputs": [],
   "source": [
    "msi_hist = pd.concat(stock_list, axis = 0)"
   ]
  },
  {
   "cell_type": "code",
   "execution_count": 6,
   "metadata": {
    "execution": {
     "iopub.execute_input": "2020-10-11T07:22:05.488578Z",
     "iopub.status.busy": "2020-10-11T07:22:05.487336Z",
     "iopub.status.idle": "2020-10-11T07:22:05.491566Z",
     "shell.execute_reply": "2020-10-11T07:22:05.492213Z"
    },
    "papermill": {
     "duration": 0.054864,
     "end_time": "2020-10-11T07:22:05.492381",
     "exception": false,
     "start_time": "2020-10-11T07:22:05.437517",
     "status": "completed"
    },
    "tags": []
   },
   "outputs": [
    {
     "data": {
      "text/html": [
       "<div>\n",
       "<style scoped>\n",
       "    .dataframe tbody tr th:only-of-type {\n",
       "        vertical-align: middle;\n",
       "    }\n",
       "\n",
       "    .dataframe tbody tr th {\n",
       "        vertical-align: top;\n",
       "    }\n",
       "\n",
       "    .dataframe thead th {\n",
       "        text-align: right;\n",
       "    }\n",
       "</style>\n",
       "<table border=\"1\" class=\"dataframe\">\n",
       "  <thead>\n",
       "    <tr style=\"text-align: right;\">\n",
       "      <th></th>\n",
       "      <th>Open</th>\n",
       "      <th>High</th>\n",
       "      <th>Low</th>\n",
       "      <th>Close</th>\n",
       "      <th>Volume</th>\n",
       "      <th>Dividends</th>\n",
       "      <th>Stock Splits</th>\n",
       "      <th>ticker</th>\n",
       "      <th>Adj Close</th>\n",
       "    </tr>\n",
       "    <tr>\n",
       "      <th>Date</th>\n",
       "      <th></th>\n",
       "      <th></th>\n",
       "      <th></th>\n",
       "      <th></th>\n",
       "      <th></th>\n",
       "      <th></th>\n",
       "      <th></th>\n",
       "      <th></th>\n",
       "      <th></th>\n",
       "    </tr>\n",
       "  </thead>\n",
       "  <tbody>\n",
       "    <tr>\n",
       "      <th>2020-09-23</th>\n",
       "      <td>3138.000000</td>\n",
       "      <td>3205.540039</td>\n",
       "      <td>3117.360107</td>\n",
       "      <td>3162.409912</td>\n",
       "      <td>0.0</td>\n",
       "      <td>0.0</td>\n",
       "      <td>0.0</td>\n",
       "      <td>^JN0U.JO</td>\n",
       "      <td>NaN</td>\n",
       "    </tr>\n",
       "    <tr>\n",
       "      <th>2020-09-25</th>\n",
       "      <td>3193.300049</td>\n",
       "      <td>3193.870117</td>\n",
       "      <td>3066.290039</td>\n",
       "      <td>3105.010010</td>\n",
       "      <td>0.0</td>\n",
       "      <td>0.0</td>\n",
       "      <td>0.0</td>\n",
       "      <td>^JN0U.JO</td>\n",
       "      <td>NaN</td>\n",
       "    </tr>\n",
       "    <tr>\n",
       "      <th>2020-09-28</th>\n",
       "      <td>3123.300049</td>\n",
       "      <td>3203.389893</td>\n",
       "      <td>3121.090088</td>\n",
       "      <td>3170.429932</td>\n",
       "      <td>0.0</td>\n",
       "      <td>0.0</td>\n",
       "      <td>0.0</td>\n",
       "      <td>^JN0U.JO</td>\n",
       "      <td>NaN</td>\n",
       "    </tr>\n",
       "    <tr>\n",
       "      <th>2020-09-29</th>\n",
       "      <td>3183.360107</td>\n",
       "      <td>3211.629883</td>\n",
       "      <td>3141.090088</td>\n",
       "      <td>3186.250000</td>\n",
       "      <td>0.0</td>\n",
       "      <td>0.0</td>\n",
       "      <td>0.0</td>\n",
       "      <td>^JN0U.JO</td>\n",
       "      <td>NaN</td>\n",
       "    </tr>\n",
       "    <tr>\n",
       "      <th>2020-09-30</th>\n",
       "      <td>3188.209961</td>\n",
       "      <td>3241.790039</td>\n",
       "      <td>3173.300049</td>\n",
       "      <td>3224.969971</td>\n",
       "      <td>0.0</td>\n",
       "      <td>0.0</td>\n",
       "      <td>0.0</td>\n",
       "      <td>^JN0U.JO</td>\n",
       "      <td>NaN</td>\n",
       "    </tr>\n",
       "  </tbody>\n",
       "</table>\n",
       "</div>"
      ],
      "text/plain": [
       "                   Open         High          Low        Close  Volume  \\\n",
       "Date                                                                     \n",
       "2020-09-23  3138.000000  3205.540039  3117.360107  3162.409912     0.0   \n",
       "2020-09-25  3193.300049  3193.870117  3066.290039  3105.010010     0.0   \n",
       "2020-09-28  3123.300049  3203.389893  3121.090088  3170.429932     0.0   \n",
       "2020-09-29  3183.360107  3211.629883  3141.090088  3186.250000     0.0   \n",
       "2020-09-30  3188.209961  3241.790039  3173.300049  3224.969971     0.0   \n",
       "\n",
       "            Dividends  Stock Splits    ticker  Adj Close  \n",
       "Date                                                      \n",
       "2020-09-23        0.0           0.0  ^JN0U.JO        NaN  \n",
       "2020-09-25        0.0           0.0  ^JN0U.JO        NaN  \n",
       "2020-09-28        0.0           0.0  ^JN0U.JO        NaN  \n",
       "2020-09-29        0.0           0.0  ^JN0U.JO        NaN  \n",
       "2020-09-30        0.0           0.0  ^JN0U.JO        NaN  "
      ]
     },
     "execution_count": 6,
     "metadata": {},
     "output_type": "execute_result"
    }
   ],
   "source": [
    "msi_hist.tail()"
   ]
  },
  {
   "cell_type": "code",
   "execution_count": 7,
   "metadata": {
    "execution": {
     "iopub.execute_input": "2020-10-11T07:22:05.574429Z",
     "iopub.status.busy": "2020-10-11T07:22:05.573582Z",
     "iopub.status.idle": "2020-10-11T07:22:06.130903Z",
     "shell.execute_reply": "2020-10-11T07:22:06.130179Z"
    },
    "papermill": {
     "duration": 0.605865,
     "end_time": "2020-10-11T07:22:06.131036",
     "exception": false,
     "start_time": "2020-10-11T07:22:05.525171",
     "status": "completed"
    },
    "tags": []
   },
   "outputs": [],
   "source": [
    "tickerData = yf.Ticker('^GSPC')\n",
    "tickerDf1 = tickerData.history(period='1d', start='2010-1-1', end='2020-10-1')"
   ]
  },
  {
   "cell_type": "code",
   "execution_count": 8,
   "metadata": {
    "execution": {
     "iopub.execute_input": "2020-10-11T07:22:06.223105Z",
     "iopub.status.busy": "2020-10-11T07:22:06.221876Z",
     "iopub.status.idle": "2020-10-11T07:22:06.227910Z",
     "shell.execute_reply": "2020-10-11T07:22:06.227134Z"
    },
    "papermill": {
     "duration": 0.057743,
     "end_time": "2020-10-11T07:22:06.228045",
     "exception": false,
     "start_time": "2020-10-11T07:22:06.170302",
     "status": "completed"
    },
    "tags": []
   },
   "outputs": [
    {
     "data": {
      "text/html": [
       "<div>\n",
       "<style scoped>\n",
       "    .dataframe tbody tr th:only-of-type {\n",
       "        vertical-align: middle;\n",
       "    }\n",
       "\n",
       "    .dataframe tbody tr th {\n",
       "        vertical-align: top;\n",
       "    }\n",
       "\n",
       "    .dataframe thead th {\n",
       "        text-align: right;\n",
       "    }\n",
       "</style>\n",
       "<table border=\"1\" class=\"dataframe\">\n",
       "  <thead>\n",
       "    <tr style=\"text-align: right;\">\n",
       "      <th></th>\n",
       "      <th>Open</th>\n",
       "      <th>High</th>\n",
       "      <th>Low</th>\n",
       "      <th>Close</th>\n",
       "      <th>Volume</th>\n",
       "      <th>Dividends</th>\n",
       "      <th>Stock Splits</th>\n",
       "    </tr>\n",
       "    <tr>\n",
       "      <th>Date</th>\n",
       "      <th></th>\n",
       "      <th></th>\n",
       "      <th></th>\n",
       "      <th></th>\n",
       "      <th></th>\n",
       "      <th></th>\n",
       "      <th></th>\n",
       "    </tr>\n",
       "  </thead>\n",
       "  <tbody>\n",
       "    <tr>\n",
       "      <th>2020-09-24</th>\n",
       "      <td>3226.139893</td>\n",
       "      <td>3278.699951</td>\n",
       "      <td>3209.449951</td>\n",
       "      <td>3246.590088</td>\n",
       "      <td>4599470000</td>\n",
       "      <td>0</td>\n",
       "      <td>0</td>\n",
       "    </tr>\n",
       "    <tr>\n",
       "      <th>2020-09-25</th>\n",
       "      <td>3236.659912</td>\n",
       "      <td>3306.879883</td>\n",
       "      <td>3228.439941</td>\n",
       "      <td>3298.459961</td>\n",
       "      <td>3792220000</td>\n",
       "      <td>0</td>\n",
       "      <td>0</td>\n",
       "    </tr>\n",
       "    <tr>\n",
       "      <th>2020-09-28</th>\n",
       "      <td>3333.899902</td>\n",
       "      <td>3360.739990</td>\n",
       "      <td>3332.909912</td>\n",
       "      <td>3351.600098</td>\n",
       "      <td>3946060000</td>\n",
       "      <td>0</td>\n",
       "      <td>0</td>\n",
       "    </tr>\n",
       "    <tr>\n",
       "      <th>2020-09-29</th>\n",
       "      <td>3350.919922</td>\n",
       "      <td>3357.919922</td>\n",
       "      <td>3327.540039</td>\n",
       "      <td>3335.469971</td>\n",
       "      <td>3651880000</td>\n",
       "      <td>0</td>\n",
       "      <td>0</td>\n",
       "    </tr>\n",
       "    <tr>\n",
       "      <th>2020-09-30</th>\n",
       "      <td>3341.209961</td>\n",
       "      <td>3393.560059</td>\n",
       "      <td>3340.469971</td>\n",
       "      <td>3363.000000</td>\n",
       "      <td>4722530000</td>\n",
       "      <td>0</td>\n",
       "      <td>0</td>\n",
       "    </tr>\n",
       "  </tbody>\n",
       "</table>\n",
       "</div>"
      ],
      "text/plain": [
       "                   Open         High          Low        Close      Volume  \\\n",
       "Date                                                                         \n",
       "2020-09-24  3226.139893  3278.699951  3209.449951  3246.590088  4599470000   \n",
       "2020-09-25  3236.659912  3306.879883  3228.439941  3298.459961  3792220000   \n",
       "2020-09-28  3333.899902  3360.739990  3332.909912  3351.600098  3946060000   \n",
       "2020-09-29  3350.919922  3357.919922  3327.540039  3335.469971  3651880000   \n",
       "2020-09-30  3341.209961  3393.560059  3340.469971  3363.000000  4722530000   \n",
       "\n",
       "            Dividends  Stock Splits  \n",
       "Date                                 \n",
       "2020-09-24          0             0  \n",
       "2020-09-25          0             0  \n",
       "2020-09-28          0             0  \n",
       "2020-09-29          0             0  \n",
       "2020-09-30          0             0  "
      ]
     },
     "execution_count": 8,
     "metadata": {},
     "output_type": "execute_result"
    }
   ],
   "source": [
    "tickerDf1.tail()"
   ]
  },
  {
   "cell_type": "code",
   "execution_count": 9,
   "metadata": {
    "execution": {
     "iopub.execute_input": "2020-10-11T07:22:06.302141Z",
     "iopub.status.busy": "2020-10-11T07:22:06.301353Z",
     "iopub.status.idle": "2020-10-11T07:22:06.322628Z",
     "shell.execute_reply": "2020-10-11T07:22:06.321969Z"
    },
    "papermill": {
     "duration": 0.060893,
     "end_time": "2020-10-11T07:22:06.322776",
     "exception": false,
     "start_time": "2020-10-11T07:22:06.261883",
     "status": "completed"
    },
    "tags": []
   },
   "outputs": [],
   "source": [
    "import pickle\n",
    "\n",
    "pickle.dump(msi_hist,open(\"stock_list.pkl\",\"wb\"))"
   ]
  }
 ],
 "metadata": {
  "kernelspec": {
   "display_name": "Python 3",
   "language": "python",
   "name": "python3"
  },
  "language_info": {
   "codemirror_mode": {
    "name": "ipython",
    "version": 3
   },
   "file_extension": ".py",
   "mimetype": "text/x-python",
   "name": "python",
   "nbconvert_exporter": "python",
   "pygments_lexer": "ipython3",
   "version": "3.7.6"
  },
  "papermill": {
   "duration": 65.573263,
   "end_time": "2020-10-11T07:22:06.466207",
   "environment_variables": {},
   "exception": null,
   "input_path": "__notebook__.ipynb",
   "output_path": "__notebook__.ipynb",
   "parameters": {},
   "start_time": "2020-10-11T07:21:00.892944",
   "version": "2.1.0"
  }
 },
 "nbformat": 4,
 "nbformat_minor": 4
}
